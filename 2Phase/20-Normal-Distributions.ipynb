{
 "cells": [
  {
   "cell_type": "markdown",
   "metadata": {
    "toc": true
   },
   "source": [
    "<h1>Table of Contents<span class=\"tocSkip\"></span></h1>\n",
    "<div class=\"toc\"><ul class=\"toc-item\"><li><span><a href=\"#Objectives\" data-toc-modified-id=\"Objectives-1\"><span class=\"toc-item-num\">1&nbsp;&nbsp;</span>Objectives</a></span></li><li><span><a href=\"#Normal-Distribution\" data-toc-modified-id=\"Normal-Distribution-2\"><span class=\"toc-item-num\">2&nbsp;&nbsp;</span>Normal Distribution</a></span><ul class=\"toc-item\"><li><span><a href=\"#Why-a-Normal-Distribution?\" data-toc-modified-id=\"Why-a-Normal-Distribution?-2.1\"><span class=\"toc-item-num\">2.1&nbsp;&nbsp;</span>Why a Normal Distribution?</a></span><ul class=\"toc-item\"><li><span><a href=\"#Normal-Curve\" data-toc-modified-id=\"Normal-Curve-2.1.1\"><span class=\"toc-item-num\">2.1.1&nbsp;&nbsp;</span>Normal Curve</a></span></li></ul></li><li><span><a href=\"#Standard-Normal-Distribution\" data-toc-modified-id=\"Standard-Normal-Distribution-2.2\"><span class=\"toc-item-num\">2.2&nbsp;&nbsp;</span><em>Standard</em> Normal Distribution</a></span></li><li><span><a href=\"#$z$-Score\" data-toc-modified-id=\"$z$-Score-2.3\"><span class=\"toc-item-num\">2.3&nbsp;&nbsp;</span>$z$-Score</a></span><ul class=\"toc-item\"><li><ul class=\"toc-item\"><li><span><a href=\"#🧠-Knowledge-Check\" data-toc-modified-id=\"🧠-Knowledge-Check-2.3.0.1\"><span class=\"toc-item-num\">2.3.0.1&nbsp;&nbsp;</span>🧠 Knowledge Check</a></span></li></ul></li><li><span><a href=\"#The-Empirical-Rule\" data-toc-modified-id=\"The-Empirical-Rule-2.3.1\"><span class=\"toc-item-num\">2.3.1&nbsp;&nbsp;</span>The Empirical Rule</a></span><ul class=\"toc-item\"><li><span><a href=\"#🧠-Knowledge-Check\" data-toc-modified-id=\"🧠-Knowledge-Check-2.3.1.1\"><span class=\"toc-item-num\">2.3.1.1&nbsp;&nbsp;</span>🧠 Knowledge Check</a></span></li></ul></li></ul></li></ul></li><li><span><a href=\"#Exercises\" data-toc-modified-id=\"Exercises-3\"><span class=\"toc-item-num\">3&nbsp;&nbsp;</span>Exercises</a></span><ul class=\"toc-item\"><li><span><a href=\"#Height-$z$-score\" data-toc-modified-id=\"Height-$z$-score-3.1\"><span class=\"toc-item-num\">3.1&nbsp;&nbsp;</span>Height $z$-score</a></span><ul class=\"toc-item\"><li><ul class=\"toc-item\"><li><span><a href=\"#Describe-the-z-score---what-does-it-tell-us?\" data-toc-modified-id=\"Describe-the-z-score---what-does-it-tell-us?-3.1.0.1\"><span class=\"toc-item-num\">3.1.0.1&nbsp;&nbsp;</span>Describe the z-score - what does it tell us?</a></span></li></ul></li></ul></li><li><span><a href=\"#Height-Empirical-Rule\" data-toc-modified-id=\"Height-Empirical-Rule-3.2\"><span class=\"toc-item-num\">3.2&nbsp;&nbsp;</span>Height Empirical Rule</a></span></li><li><span><a href=\"#Height-Percentile\" data-toc-modified-id=\"Height-Percentile-3.3\"><span class=\"toc-item-num\">3.3&nbsp;&nbsp;</span>Height Percentile</a></span></li><li><span><a href=\"#Bonus\" data-toc-modified-id=\"Bonus-3.4\"><span class=\"toc-item-num\">3.4&nbsp;&nbsp;</span>Bonus</a></span></li><li><span><a href=\"#Time-for-Pandas!\" data-toc-modified-id=\"Time-for-Pandas!-3.5\"><span class=\"toc-item-num\">3.5&nbsp;&nbsp;</span>Time for Pandas!</a></span><ul class=\"toc-item\"><li><span><a href=\"#Using-Z-Scores\" data-toc-modified-id=\"Using-Z-Scores-3.5.1\"><span class=\"toc-item-num\">3.5.1&nbsp;&nbsp;</span>Using Z-Scores</a></span></li></ul></li><li><span><a href=\"#Central-Limit-Theorem-(CLT)\" data-toc-modified-id=\"Central-Limit-Theorem-(CLT)-3.6\"><span class=\"toc-item-num\">3.6&nbsp;&nbsp;</span>Central Limit Theorem (CLT)</a></span></li><li><span><a href=\"#Revisiting-Sampling\" data-toc-modified-id=\"Revisiting-Sampling-3.7\"><span class=\"toc-item-num\">3.7&nbsp;&nbsp;</span>Revisiting Sampling</a></span><ul class=\"toc-item\"><li><span><a href=\"#Back-to-our-Seattle-Data\" data-toc-modified-id=\"Back-to-our-Seattle-Data-3.7.1\"><span class=\"toc-item-num\">3.7.1&nbsp;&nbsp;</span>Back to our Seattle Data</a></span></li></ul></li></ul></li><li><span><a href=\"#Level-Up:-Other-Distributions\" data-toc-modified-id=\"Level-Up:-Other-Distributions-4\"><span class=\"toc-item-num\">4&nbsp;&nbsp;</span>Level Up: Other Distributions</a></span><ul class=\"toc-item\"><li><span><a href=\"#Distribution-Types-Exercise\" data-toc-modified-id=\"Distribution-Types-Exercise-4.1\"><span class=\"toc-item-num\">4.1&nbsp;&nbsp;</span>Distribution Types Exercise</a></span></li><li><span><a href=\"#Level-Up:-SKLearn's-Standard-Scaler\" data-toc-modified-id=\"Level-Up:-SKLearn's-Standard-Scaler-4.2\"><span class=\"toc-item-num\">4.2&nbsp;&nbsp;</span>Level Up: SKLearn's Standard Scaler</a></span></li></ul></li></ul></div>"
   ]
  },
  {
   "cell_type": "markdown",
   "metadata": {
    "heading_collapsed": true
   },
   "source": [
    "# Objectives"
   ]
  },
  {
   "cell_type": "markdown",
   "metadata": {
    "hidden": true
   },
   "source": [
    "* Describe the normal distribution's Empirical Rule\n",
    "* Calculate $z$-scores from a normal distribution through standardization\n",
    "* Define the Central Limit Theorem\n"
   ]
  },
  {
   "cell_type": "code",
   "execution_count": 1,
   "metadata": {
    "hidden": true
   },
   "outputs": [],
   "source": [
    "# Imports!\n",
    "from scipy import stats\n",
    "\n",
    "import matplotlib.pyplot as plt\n",
    "%matplotlib inline\n",
    "import seaborn as sns\n",
    "\n",
    "import pandas as pd\n",
    "import numpy as np"
   ]
  },
  {
   "cell_type": "markdown",
   "metadata": {},
   "source": [
    "# Normal Distribution"
   ]
  },
  {
   "cell_type": "markdown",
   "metadata": {},
   "source": [
    "We'll find that the **normal distribution** or **normal curve** or **bell curve** (it has many names) is a very common distribution and it's very useful to us in statistics."
   ]
  },
  {
   "cell_type": "markdown",
   "metadata": {},
   "source": [
    "![](images/normal_curve_animation.gif)"
   ]
  },
  {
   "cell_type": "markdown",
   "metadata": {},
   "source": [
    "## Why a Normal Distribution?"
   ]
  },
  {
   "cell_type": "markdown",
   "metadata": {},
   "source": [
    "Turns out the normal distribution describes many phenomena. Think of anything that has a typical range:\n",
    "\n",
    "- human body temperatures\n",
    "- sizes of elephants\n",
    "- sizes of stars\n",
    "- populations of cities\n",
    "- IQ\n",
    "- heart rate"
   ]
  },
  {
   "cell_type": "markdown",
   "metadata": {},
   "source": [
    "Among human beings, 98.6 degrees Fahrenheit is an _average_ body temperature. Many folks' temperatures won't measure _exactly_ 98.6 degrees, but most measurements will be _close_. It is much more common to have a body temperature close to 98.6 (whether slightly more or slightly less) than it is to have a body temperature far from 98.6 (whether significantly more or significantly less). This is a hallmark of a normally distributed variable."
   ]
  },
  {
   "cell_type": "code",
   "execution_count": 2,
   "metadata": {},
   "outputs": [
    {
     "data": {
      "image/png": "[encoded data removed]",
      "text/plain": [
       "<Figure size 432x288 with 1 Axes>"
      ]
     },
     "metadata": {
      "needs_background": "light"
     },
     "output_type": "display_data"
    }
   ],
   "source": [
    "# Visualize it\n",
    "fig, ax = plt.subplots()\n",
    "\n",
    "mu = 0\n",
    "sigma = 1\n",
    "# This defines the points along the x-axis\n",
    "x = np.linspace(\n",
    "        stats.norm(mu,sigma).ppf(0.01), # Start plotting here\n",
    "        stats.norm(mu,sigma).ppf(0.99), # End plotting here\n",
    "        100                             # Number of points\n",
    ")\n",
    "# The values as at x given by the normal curve (with mu & sigma)\n",
    "y = stats.norm(mu,sigma).pdf(x)\n",
    "ax.plot(x, y,'r-');"
   ]
  },
  {
   "cell_type": "markdown",
   "metadata": {},
   "source": [
    "The Standard Normal Distribution, also known as a Gaussian distribution, is special not only because it shows up EVERYWHERE but also because it's symmetric (mean == median == mode)"
   ]
  },
  {
   "cell_type": "markdown",
   "metadata": {},
   "source": [
    "### Normal Curve\n",
    "\n",
    "If you're curious about how we can mathematically define a normal curve, we give this below. (Don't worry, you don't need to recall the mathematical definition).\n",
    "\n",
    "<details>\n",
    "\n",
    "$\\Large f(x) = \\frac{1}{\\sqrt{2\\pi\\sigma^2}}e^{\\frac{-(x - \\mu)^2}{2\\sigma^2}}$\n",
    "    \n",
    "This might look complicated at first, but it means that the we describe a normal curve with just **two parameters**: $\\sigma^2$ (the variance) & $\\mu$ (the mean). You may see the notation $N(\\mu, \\sigma^2)$ which emphasizes there are only two parameters to describe the distribution.\n",
    "</details>"
   ]
  },
  {
   "cell_type": "markdown",
   "metadata": {},
   "source": [
    "\n"
   ]
  },
  {
   "cell_type": "markdown",
   "metadata": {},
   "source": [
    "## *Standard* Normal Distribution"
   ]
  },
  {
   "cell_type": "markdown",
   "metadata": {},
   "source": [
    "A special normal distribution called the **standard normal distribution** has a mean of 0 and variance of 1. This is also known as a **z distribution**."
   ]
  },
  {
   "cell_type": "markdown",
   "metadata": {},
   "source": [
    "Since we know that the shape of a normal distribution changes based on its mean and variance, we'll typically convert or **standardize** our normal distribution to the standard normal distribution."
   ]
  },
  {
   "cell_type": "markdown",
   "metadata": {},
   "source": [
    "We simply subtract the mean $\\mu$ from each value and then divide by the standard deviation $\\sigma$:\n",
    "\n",
    "$$\\frac{x - \\mu}{\\sigma}$$\n",
    "\n",
    "We call this process **standardization**."
   ]
  },
  {
   "cell_type": "markdown",
   "metadata": {},
   "source": [
    "![norm_to_z](images/norm_to_z.png)"
   ]
  },
  {
   "cell_type": "code",
   "execution_count": 4,
   "metadata": {
    "scrolled": false
   },
   "outputs": [
    {
     "data": {
      "text/plain": [
       "5.092646515285402"
      ]
     },
     "execution_count": 4,
     "metadata": {},
     "output_type": "execute_result"
    }
   ],
   "source": [
    "# Let's transform the normal distribution centered on 5\n",
    "# with a standard deviation of 2 into a standard normal\n",
    "\n",
    "# Generating our data\n",
    "normal_dist = np.random.normal(loc=5, scale=2, size=1000)\n",
    "\n",
    "np.mean(normal_dist)"
   ]
  },
  {
   "cell_type": "code",
   "execution_count": 7,
   "metadata": {},
   "outputs": [
    {
     "data": {
      "text/plain": [
       "4.263256414560601e-16"
      ]
     },
     "execution_count": 7,
     "metadata": {},
     "output_type": "execute_result"
    }
   ],
   "source": [
    "# Here, let's standardize by hand\n",
    "# (x - mean) / std\n",
    "# mean = np.mean(normal_dist)\n",
    "# std = np.std(normal_dist)\n",
    "# f(x) = (x - mean) / std\n",
    "\n",
    "z_dist = [ ((x - np.mean(normal_dist)) / np.std(normal_dist)) for x in normal_dist  ]\n",
    "\n",
    "np.mean(z_dist)"
   ]
  },
  {
   "cell_type": "code",
   "execution_count": 8,
   "metadata": {},
   "outputs": [
    {
     "data": {
      "image/png": "[encoded data removed]",
      "text/plain": [
       "<Figure size 720x432 with 2 Axes>"
      ]
     },
     "metadata": {
      "needs_background": "light"
     },
     "output_type": "display_data"
    }
   ],
   "source": [
    "# Visualize it\n",
    "fig, (ax0, ax1) = plt.subplots(nrows=2, sharex=True, figsize=(10, 6))\n",
    "\n",
    "sns.histplot(data=normal_dist, ax=ax0)\n",
    "ax0.set_title('Before Standardization')\n",
    "\n",
    "sns.histplot(data=z_dist, ax=ax1)\n",
    "ax1.set_title('After Standardization')\n",
    "\n",
    "plt.tight_layout()"
   ]
  },
  {
   "cell_type": "markdown",
   "metadata": {},
   "source": [
    "Talking about the **standard normal distribution** can be very convenient since the values correspond to the number of standard deviations above or below the mean."
   ]
  },
  {
   "cell_type": "markdown",
   "metadata": {},
   "source": [
    "## $z$-Score"
   ]
  },
  {
   "cell_type": "markdown",
   "metadata": {},
   "source": [
    "A **$z$-score** for a specific data point $x$ (in a normal distribution) is simply the distance to the mean in the units of standard deviations\n",
    "\n",
    "$$\\large z = \\frac{x - \\mu}{\\sigma}$$\n",
    "\n",
    "By calculating the z-score of an individual point, we can see how unlikely a value is."
   ]
  },
  {
   "cell_type": "markdown",
   "metadata": {},
   "source": [
    "Here's a little site with some [interactive Gaussians](https://www.intmath.com/counting-probability/normal-distribution-graph-interactive.php)"
   ]
  },
  {
   "cell_type": "markdown",
   "metadata": {},
   "source": [
    "#### 🧠 Knowledge Check"
   ]
  },
  {
   "cell_type": "markdown",
   "metadata": {},
   "source": [
    "What would the $z$-score be for the middle of a normal curve?\n",
    "\n",
    "- 0\n"
   ]
  },
  {
   "cell_type": "markdown",
   "metadata": {},
   "source": [
    "### The Empirical Rule"
   ]
  },
  {
   "cell_type": "markdown",
   "metadata": {},
   "source": [
    "> Rule states that $68\\%$ of the values of a normal distribution of data lie within 1 standard deviation ($\\sigma$) of the mean, $95\\%$ within $2\\sigma$, and $99.7\\%$ within $3\\sigma$.  \n",
    "\n",
    "This makes it really quick to look at a normal distribution and understand where values tend to lie"
   ]
  },
  {
   "cell_type": "markdown",
   "metadata": {},
   "source": [
    "<img src='https://github.com/learn-co-students/dsc-0-09-12-gaussian-distributions-online-ds-ft-031119/blob/master/normalsd.jpg?raw=true' width=700/>"
   ]
  },
  {
   "cell_type": "markdown",
   "metadata": {
    "heading_collapsed": true
   },
   "source": [
    "#### 🧠 Knowledge Check"
   ]
  },
  {
   "cell_type": "markdown",
   "metadata": {
    "hidden": true
   },
   "source": [
    "About what percentage of the values would be between a $z$-score of $-1$ and a $z$-score of $2$?\n",
    "\n",
    "<details>\n",
    "    <summary>Answer</summary>\n",
    "    About $82\\%$\n",
    "</details>"
   ]
  },
  {
   "cell_type": "markdown",
   "metadata": {},
   "source": [
    "# Exercises"
   ]
  },
  {
   "cell_type": "markdown",
   "metadata": {},
   "source": [
    "The distribution of people's heights in the United States has a **mean of 66 inches** and a **standard deviation of 4 inches**. "
   ]
  },
  {
   "cell_type": "markdown",
   "metadata": {
    "heading_collapsed": true
   },
   "source": [
    "## Height $z$-score"
   ]
  },
  {
   "cell_type": "markdown",
   "metadata": {
    "hidden": true
   },
   "source": [
    "Calculate the z-score of a height of **76 inches.**"
   ]
  },
  {
   "cell_type": "code",
   "execution_count": 9,
   "metadata": {
    "hidden": true
   },
   "outputs": [
    {
     "data": {
      "text/plain": [
       "2.5"
      ]
     },
     "execution_count": 9,
     "metadata": {},
     "output_type": "execute_result"
    }
   ],
   "source": [
    "# Your code here\n",
    "(76-66) / 4"
   ]
  },
  {
   "cell_type": "markdown",
   "metadata": {
    "hidden": true
   },
   "source": [
    "#### Describe the z-score - what does it tell us?\n",
    "\n",
    "- far from mean, between 2 and 3 standard deviations from the mean\n"
   ]
  },
  {
   "cell_type": "markdown",
   "metadata": {
    "heading_collapsed": true
   },
   "source": [
    "## Height Empirical Rule"
   ]
  },
  {
   "cell_type": "markdown",
   "metadata": {
    "hidden": true
   },
   "source": [
    "Determine the proportion of those whose height is between **62 inches and 74 inches**."
   ]
  },
  {
   "cell_type": "code",
   "execution_count": 15,
   "metadata": {
    "hidden": true
   },
   "outputs": [
    {
     "name": "stdout",
     "output_type": "stream",
     "text": [
      "-1.0\n",
      "2.0\n"
     ]
    }
   ],
   "source": [
    "# Your code here\n",
    "ans1 = (62 - 66)/4\n",
    "ans2 = (74-66)/4\n",
    "print(ans1)\n",
    "print(ans2)"
   ]
  },
  {
   "cell_type": "code",
   "execution_count": 16,
   "metadata": {},
   "outputs": [],
   "source": [
    "heights = stats.norm(loc=66, scale=4)\n"
   ]
  },
  {
   "cell_type": "code",
   "execution_count": 17,
   "metadata": {},
   "outputs": [
    {
     "data": {
      "text/plain": [
       "0.8185946141203637"
      ]
     },
     "execution_count": 17,
     "metadata": {},
     "output_type": "execute_result"
    }
   ],
   "source": [
    "heights.cdf(74) - heights.cdf(62)"
   ]
  },
  {
   "cell_type": "markdown",
   "metadata": {
    "heading_collapsed": true
   },
   "source": [
    "## Height Percentile"
   ]
  },
  {
   "cell_type": "markdown",
   "metadata": {
    "hidden": true
   },
   "source": [
    "Assuming the above distribution of people's heights in the United States is approximately normal, what percent of people have a height **less than 75 inches**?"
   ]
  },
  {
   "cell_type": "code",
   "execution_count": 18,
   "metadata": {
    "hidden": true
   },
   "outputs": [
    {
     "data": {
      "text/plain": [
       "0.9877755273449553"
      ]
     },
     "execution_count": 18,
     "metadata": {},
     "output_type": "execute_result"
    }
   ],
   "source": [
    "# Your code here\n",
    "heights.cdf(75)"
   ]
  },
  {
   "cell_type": "markdown",
   "metadata": {
    "heading_collapsed": true
   },
   "source": [
    "## Bonus"
   ]
  },
  {
   "cell_type": "markdown",
   "metadata": {
    "hidden": true
   },
   "source": [
    "Assuming the above distribution of people's heights in the United States is approximately normal, what range of heights contain the **middle 50% of values**, also known as the _interquartile range_ (IQR)?"
   ]
  },
  {
   "cell_type": "code",
   "execution_count": null,
   "metadata": {},
   "outputs": [],
   "source": [
    "25% - 50 - 75%"
   ]
  },
  {
   "cell_type": "code",
   "execution_count": 22,
   "metadata": {
    "hidden": true
   },
   "outputs": [
    {
     "data": {
      "text/plain": [
       "63.30204099921567"
      ]
     },
     "execution_count": 22,
     "metadata": {},
     "output_type": "execute_result"
    }
   ],
   "source": [
    "# Your code here\n",
    "\n",
    "heights.ppf(0.25)"
   ]
  },
  {
   "cell_type": "code",
   "execution_count": 23,
   "metadata": {},
   "outputs": [
    {
     "data": {
      "text/plain": [
       "66.0"
      ]
     },
     "execution_count": 23,
     "metadata": {},
     "output_type": "execute_result"
    }
   ],
   "source": [
    "heights.ppf(.5)"
   ]
  },
  {
   "cell_type": "code",
   "execution_count": 24,
   "metadata": {},
   "outputs": [
    {
     "data": {
      "text/plain": [
       "68.69795900078432"
      ]
     },
     "execution_count": 24,
     "metadata": {},
     "output_type": "execute_result"
    }
   ],
   "source": [
    "heights.ppf(.75)"
   ]
  },
  {
   "cell_type": "markdown",
   "metadata": {},
   "source": [
    "## Time for Pandas!\n",
    "\n",
    "Let's use the same Seattle City Employee data from the first Distributions lecture to check out what scaling looks like in practice!\n",
    "\n",
    "Data source: https://data.seattle.gov/City-Business/City-of-Seattle-Wage-Data/2khk-5ukd"
   ]
  },
  {
   "cell_type": "code",
   "execution_count": 25,
   "metadata": {},
   "outputs": [],
   "source": [
    "# Read in the data\n",
    "df = pd.read_csv('./data/City_of_Seattle_Wage_Data_031422.csv')"
   ]
  },
  {
   "cell_type": "code",
   "execution_count": 26,
   "metadata": {},
   "outputs": [
    {
     "data": {
      "text/html": [
       "<div>\n",
       "<style scoped>\n",
       "    .dataframe tbody tr th:only-of-type {\n",
       "        vertical-align: middle;\n",
       "    }\n",
       "\n",
       "    .dataframe tbody tr th {\n",
       "        vertical-align: top;\n",
       "    }\n",
       "\n",
       "    .dataframe thead th {\n",
       "        text-align: right;\n",
       "    }\n",
       "</style>\n",
       "<table border=\"1\" class=\"dataframe\">\n",
       "  <thead>\n",
       "    <tr style=\"text-align: right;\">\n",
       "      <th></th>\n",
       "      <th>Department</th>\n",
       "      <th>Last Name</th>\n",
       "      <th>First Name</th>\n",
       "      <th>Job Title</th>\n",
       "      <th>Hourly Rate</th>\n",
       "    </tr>\n",
       "  </thead>\n",
       "  <tbody>\n",
       "    <tr>\n",
       "      <th>0</th>\n",
       "      <td>Seattle Public Utilities</td>\n",
       "      <td>Batchelor</td>\n",
       "      <td>Craig</td>\n",
       "      <td>Civil Engrng Spec,Sr</td>\n",
       "      <td>53.740</td>\n",
       "    </tr>\n",
       "    <tr>\n",
       "      <th>1</th>\n",
       "      <td>Finance &amp; Admin Services</td>\n",
       "      <td>Altice</td>\n",
       "      <td>Jeffrey</td>\n",
       "      <td>Auto Mechanic</td>\n",
       "      <td>39.780</td>\n",
       "    </tr>\n",
       "    <tr>\n",
       "      <th>2</th>\n",
       "      <td>Finance &amp; Admin Services</td>\n",
       "      <td>Montes</td>\n",
       "      <td>Valeria</td>\n",
       "      <td>Cust Svc Rep</td>\n",
       "      <td>29.450</td>\n",
       "    </tr>\n",
       "    <tr>\n",
       "      <th>3</th>\n",
       "      <td>Fire Department</td>\n",
       "      <td>Kuklok</td>\n",
       "      <td>Rebecca</td>\n",
       "      <td>Cust Svc Rep *</td>\n",
       "      <td>29.450</td>\n",
       "    </tr>\n",
       "    <tr>\n",
       "      <th>4</th>\n",
       "      <td>Planning &amp; Comm Development</td>\n",
       "      <td>Quirindongo</td>\n",
       "      <td>Rico</td>\n",
       "      <td>Executive3</td>\n",
       "      <td>97.164</td>\n",
       "    </tr>\n",
       "  </tbody>\n",
       "</table>\n",
       "</div>"
      ],
      "text/plain": [
       "                    Department    Last Name First Name             Job Title  \\\n",
       "0     Seattle Public Utilities    Batchelor      Craig  Civil Engrng Spec,Sr   \n",
       "1     Finance & Admin Services       Altice    Jeffrey         Auto Mechanic   \n",
       "2     Finance & Admin Services       Montes    Valeria          Cust Svc Rep   \n",
       "3              Fire Department       Kuklok    Rebecca        Cust Svc Rep *   \n",
       "4  Planning & Comm Development  Quirindongo       Rico            Executive3   \n",
       "\n",
       "   Hourly Rate   \n",
       "0        53.740  \n",
       "1        39.780  \n",
       "2        29.450  \n",
       "3        29.450  \n",
       "4        97.164  "
      ]
     },
     "execution_count": 26,
     "metadata": {},
     "output_type": "execute_result"
    }
   ],
   "source": [
    "# Check it\n",
    "df.head()"
   ]
  },
  {
   "cell_type": "code",
   "execution_count": 30,
   "metadata": {},
   "outputs": [
    {
     "data": {
      "text/html": [
       "<div>\n",
       "<style scoped>\n",
       "    .dataframe tbody tr th:only-of-type {\n",
       "        vertical-align: middle;\n",
       "    }\n",
       "\n",
       "    .dataframe tbody tr th {\n",
       "        vertical-align: top;\n",
       "    }\n",
       "\n",
       "    .dataframe thead th {\n",
       "        text-align: right;\n",
       "    }\n",
       "</style>\n",
       "<table border=\"1\" class=\"dataframe\">\n",
       "  <thead>\n",
       "    <tr style=\"text-align: right;\">\n",
       "      <th></th>\n",
       "      <th>department</th>\n",
       "      <th>lastname</th>\n",
       "      <th>firstname</th>\n",
       "      <th>jobtitle</th>\n",
       "      <th>hourlyrate</th>\n",
       "    </tr>\n",
       "  </thead>\n",
       "  <tbody>\n",
       "    <tr>\n",
       "      <th>0</th>\n",
       "      <td>Seattle Public Utilities</td>\n",
       "      <td>Batchelor</td>\n",
       "      <td>Craig</td>\n",
       "      <td>Civil Engrng Spec,Sr</td>\n",
       "      <td>53.740</td>\n",
       "    </tr>\n",
       "    <tr>\n",
       "      <th>1</th>\n",
       "      <td>Finance &amp; Admin Services</td>\n",
       "      <td>Altice</td>\n",
       "      <td>Jeffrey</td>\n",
       "      <td>Auto Mechanic</td>\n",
       "      <td>39.780</td>\n",
       "    </tr>\n",
       "    <tr>\n",
       "      <th>2</th>\n",
       "      <td>Finance &amp; Admin Services</td>\n",
       "      <td>Montes</td>\n",
       "      <td>Valeria</td>\n",
       "      <td>Cust Svc Rep</td>\n",
       "      <td>29.450</td>\n",
       "    </tr>\n",
       "    <tr>\n",
       "      <th>3</th>\n",
       "      <td>Fire Department</td>\n",
       "      <td>Kuklok</td>\n",
       "      <td>Rebecca</td>\n",
       "      <td>Cust Svc Rep *</td>\n",
       "      <td>29.450</td>\n",
       "    </tr>\n",
       "    <tr>\n",
       "      <th>4</th>\n",
       "      <td>Planning &amp; Comm Development</td>\n",
       "      <td>Quirindongo</td>\n",
       "      <td>Rico</td>\n",
       "      <td>Executive3</td>\n",
       "      <td>97.164</td>\n",
       "    </tr>\n",
       "  </tbody>\n",
       "</table>\n",
       "</div>"
      ],
      "text/plain": [
       "                    department     lastname firstname              jobtitle  \\\n",
       "0     Seattle Public Utilities    Batchelor     Craig  Civil Engrng Spec,Sr   \n",
       "1     Finance & Admin Services       Altice   Jeffrey         Auto Mechanic   \n",
       "2     Finance & Admin Services       Montes   Valeria          Cust Svc Rep   \n",
       "3              Fire Department       Kuklok   Rebecca        Cust Svc Rep *   \n",
       "4  Planning & Comm Development  Quirindongo      Rico            Executive3   \n",
       "\n",
       "   hourlyrate  \n",
       "0      53.740  \n",
       "1      39.780  \n",
       "2      29.450  \n",
       "3      29.450  \n",
       "4      97.164  "
      ]
     },
     "execution_count": 30,
     "metadata": {},
     "output_type": "execute_result"
    }
   ],
   "source": [
    "# Rename the columns\n",
    "df.columns = [x.lower().replace(\" \",'') for x in df.columns]\n",
    "df.head()"
   ]
  },
  {
   "cell_type": "code",
   "execution_count": 32,
   "metadata": {},
   "outputs": [
    {
     "name": "stdout",
     "output_type": "stream",
     "text": [
      "<class 'pandas.core.frame.DataFrame'>\n",
      "RangeIndex: 11739 entries, 0 to 11738\n",
      "Data columns (total 5 columns):\n",
      " #   Column      Non-Null Count  Dtype  \n",
      "---  ------      --------------  -----  \n",
      " 0   department  11739 non-null  object \n",
      " 1   lastname    11739 non-null  object \n",
      " 2   firstname   11739 non-null  object \n",
      " 3   jobtitle    11739 non-null  object \n",
      " 4   hourlyrate  11739 non-null  float64\n",
      "dtypes: float64(1), object(4)\n",
      "memory usage: 458.7+ KB\n"
     ]
    }
   ],
   "source": [
    "df.info()"
   ]
  },
  {
   "cell_type": "code",
   "execution_count": 31,
   "metadata": {},
   "outputs": [
    {
     "data": {
      "text/html": [
       "<div>\n",
       "<style scoped>\n",
       "    .dataframe tbody tr th:only-of-type {\n",
       "        vertical-align: middle;\n",
       "    }\n",
       "\n",
       "    .dataframe tbody tr th {\n",
       "        vertical-align: top;\n",
       "    }\n",
       "\n",
       "    .dataframe thead th {\n",
       "        text-align: right;\n",
       "    }\n",
       "</style>\n",
       "<table border=\"1\" class=\"dataframe\">\n",
       "  <thead>\n",
       "    <tr style=\"text-align: right;\">\n",
       "      <th></th>\n",
       "      <th>hourlyrate</th>\n",
       "    </tr>\n",
       "  </thead>\n",
       "  <tbody>\n",
       "    <tr>\n",
       "      <th>count</th>\n",
       "      <td>11739.000000</td>\n",
       "    </tr>\n",
       "    <tr>\n",
       "      <th>mean</th>\n",
       "      <td>47.817331</td>\n",
       "    </tr>\n",
       "    <tr>\n",
       "      <th>std</th>\n",
       "      <td>16.722128</td>\n",
       "    </tr>\n",
       "    <tr>\n",
       "      <th>min</th>\n",
       "      <td>5.530000</td>\n",
       "    </tr>\n",
       "    <tr>\n",
       "      <th>25%</th>\n",
       "      <td>35.400000</td>\n",
       "    </tr>\n",
       "    <tr>\n",
       "      <th>50%</th>\n",
       "      <td>47.340000</td>\n",
       "    </tr>\n",
       "    <tr>\n",
       "      <th>75%</th>\n",
       "      <td>59.550000</td>\n",
       "    </tr>\n",
       "    <tr>\n",
       "      <th>max</th>\n",
       "      <td>187.767000</td>\n",
       "    </tr>\n",
       "  </tbody>\n",
       "</table>\n",
       "</div>"
      ],
      "text/plain": [
       "         hourlyrate\n",
       "count  11739.000000\n",
       "mean      47.817331\n",
       "std       16.722128\n",
       "min        5.530000\n",
       "25%       35.400000\n",
       "50%       47.340000\n",
       "75%       59.550000\n",
       "max      187.767000"
      ]
     },
     "execution_count": 31,
     "metadata": {},
     "output_type": "execute_result"
    }
   ],
   "source": [
    "# Describe the numeric column\n",
    "df.describe()"
   ]
  },
  {
   "cell_type": "code",
   "execution_count": 33,
   "metadata": {},
   "outputs": [
    {
     "data": {
      "text/plain": [
       "<AxesSubplot:xlabel='hourlyrate', ylabel='Density'>"
      ]
     },
     "execution_count": 33,
     "metadata": {},
     "output_type": "execute_result"
    },
    {
     "data": {
      "image/png": "[encoded data removed]",
      "text/plain": [
       "<Figure size 432x288 with 1 Axes>"
      ]
     },
     "metadata": {
      "needs_background": "light"
     },
     "output_type": "display_data"
    }
   ],
   "source": [
    "# Plot the hourly rate column\n",
    "sns.kdeplot(df['hourlyrate'])"
   ]
  },
  {
   "cell_type": "markdown",
   "metadata": {},
   "source": [
    "How can we describe this distribution?\n",
    "\n",
    "- normal-ish\n",
    "- outliers left and right\n",
    "- trimodel\n"
   ]
  },
  {
   "cell_type": "markdown",
   "metadata": {},
   "source": [
    "### Using Z-Scores"
   ]
  },
  {
   "cell_type": "code",
   "execution_count": 44,
   "metadata": {
    "scrolled": true
   },
   "outputs": [
    {
     "data": {
      "text/html": [
       "<div>\n",
       "<style scoped>\n",
       "    .dataframe tbody tr th:only-of-type {\n",
       "        vertical-align: middle;\n",
       "    }\n",
       "\n",
       "    .dataframe tbody tr th {\n",
       "        vertical-align: top;\n",
       "    }\n",
       "\n",
       "    .dataframe thead th {\n",
       "        text-align: right;\n",
       "    }\n",
       "</style>\n",
       "<table border=\"1\" class=\"dataframe\">\n",
       "  <thead>\n",
       "    <tr style=\"text-align: right;\">\n",
       "      <th></th>\n",
       "      <th>department</th>\n",
       "      <th>lastname</th>\n",
       "      <th>firstname</th>\n",
       "      <th>jobtitle</th>\n",
       "      <th>hourlyrate</th>\n",
       "    </tr>\n",
       "  </thead>\n",
       "  <tbody>\n",
       "    <tr>\n",
       "      <th>11402</th>\n",
       "      <td>Seattle City Light</td>\n",
       "      <td>McDonald</td>\n",
       "      <td>Michael</td>\n",
       "      <td>Sfty&amp;Hlth Spec,Sr</td>\n",
       "      <td>50.43</td>\n",
       "    </tr>\n",
       "  </tbody>\n",
       "</table>\n",
       "</div>"
      ],
      "text/plain": [
       "               department  lastname firstname           jobtitle  hourlyrate\n",
       "11402  Seattle City Light  McDonald   Michael  Sfty&Hlth Spec,Sr       50.43"
      ]
     },
     "execution_count": 44,
     "metadata": {},
     "output_type": "execute_result"
    }
   ],
   "source": [
    "# Grab a sample row\n",
    "sample_row = df.sample(1)\n",
    "sample_row"
   ]
  },
  {
   "cell_type": "code",
   "execution_count": 45,
   "metadata": {},
   "outputs": [],
   "source": [
    "# Calculate the z-score for that row's HourlyRate\n",
    "mu = df.hourlyrate.mean()\n",
    "std = df.hourlyrate.std()"
   ]
  },
  {
   "cell_type": "code",
   "execution_count": 46,
   "metadata": {},
   "outputs": [
    {
     "data": {
      "text/plain": [
       "11402    0.15624\n",
       "Name: hourlyrate, dtype: float64"
      ]
     },
     "execution_count": 46,
     "metadata": {},
     "output_type": "execute_result"
    }
   ],
   "source": [
    "z_score = (sample_row.hourlyrate - mu)/std\n",
    "z_score"
   ]
  },
  {
   "cell_type": "code",
   "execution_count": 48,
   "metadata": {
    "scrolled": true
   },
   "outputs": [
    {
     "data": {
      "text/plain": [
       "[0.35418152857140983,\n",
       " -0.4806404510314999,\n",
       " -1.0983847955370913,\n",
       " -1.0983847955370913,\n",
       " 2.950980213548254,\n",
       " -1.3298146709714225,\n",
       " -1.4601808540326218,\n",
       " -1.166557937137902,\n",
       " -0.46389617063831823,\n",
       " -0.29047326656608063,\n",
       " -0.8298782992321442,\n",
       " 0.35418152857140983,\n",
       " -0.6785817656794678,\n",
       " -0.29047326656608063,\n",
       " -0.5954583737276021,\n",
       " 0.7244095282649353,\n",
       " -1.1850962475732103,\n",
       " -1.0601121546383907,\n",
       " -0.29047326656608063,\n",
       " 0.5192322924470566,\n",
       " -0.6528673350756533,\n",
       " -0.6528673350756533,\n",
       " 0.8750482508021651,\n",
       " -0.32156978729627517,\n",
       " 0.3368392381641861,\n",
       " 0.8204499365201121,\n",
       " 1.1764452978794329,\n",
       " -0.6409071347948091,\n",
       " -1.4601808540326218,\n",
       " 0.6513925055503826,\n",
       " -0.5284812521548761,\n",
       " 2.908880308559683,\n",
       " -0.6528673350756533,\n",
       " -0.5284812521548761,\n",
       " -0.9177857712963474,\n",
       " 0.9635537328804104,\n",
       " -1.1235012161268636,\n",
       " -1.209016648134898,\n",
       " 0.7912072468334488,\n",
       " 0.44603586672829165,\n",
       " -0.7951937184176964,\n",
       " 0.2444466909946663,\n",
       " 2.4452371645726263,\n",
       " -0.5302752821970023,\n",
       " -0.2199080849091012,\n",
       " 1.4909985652656297,\n",
       " 1.2691368500559743,\n",
       " 0.4689994512675117,\n",
       " 0.5933855341882893,\n",
       " -1.749617700829046,\n",
       " -0.03930906066835736,\n",
       " 1.3630244222605992,\n",
       " -0.46270015061023406,\n",
       " -0.05485732103345441,\n",
       " 0.7345158975022483,\n",
       " 0.964749752908495,\n",
       " 0.7476721178111766,\n",
       " 2.5596424603590395,\n",
       " -0.5649598630114502,\n",
       " 0.5168402523908878,\n",
       " 0.8991480543680657,\n",
       " 1.4909985652656297,\n",
       " -0.46270015061023406,\n",
       " 0.45584323095858337,\n",
       " 1.0603715541538419,\n",
       " 0.8397656599736751,\n",
       " -1.749617700829046,\n",
       " 0.7751805784571177,\n",
       " 0.11976160306686776,\n",
       " 2.3850235362587173,\n",
       " 0.45584323095858337,\n",
       " -0.7192464466343373,\n",
       " -1.1235012161268636,\n",
       " -1.0601121546383907,\n",
       " 0.9270751220238362,\n",
       " 1.812249544809099,\n",
       " 1.434008210927408,\n",
       " -0.7036981862692403,\n",
       " -0.014790650092626988,\n",
       " -0.7981837684879076,\n",
       " 0.6220900148623147,\n",
       " 0.8464035711295438,\n",
       " -1.749617700829046,\n",
       " -1.3878216423335157,\n",
       " -1.0601121546383907,\n",
       " 0.7883367987660461,\n",
       " 3.1739781477845894,\n",
       " 1.3026254108423367,\n",
       " -1.1235012161268636,\n",
       " -0.7036981862692403,\n",
       " -0.7036981862692403,\n",
       " -0.7036981862692403,\n",
       " 1.3026254108423367,\n",
       " -0.685159875833932,\n",
       " -0.10568817222704141,\n",
       " 1.7977777024692776,\n",
       " 0.4274377552915793,\n",
       " -0.3580483981528493,\n",
       " -0.6409071347948091,\n",
       " -0.48363050110171113,\n",
       " 2.1972483918494667,\n",
       " 1.5801020573579172,\n",
       " 0.213649175271493,\n",
       " 0.4056103897790389,\n",
       " -0.26774888603247693,\n",
       " 0.7787686385413711,\n",
       " -0.9847628928690735,\n",
       " 0.9387363172976592,\n",
       " 1.9743102586145345,\n",
       " 1.1758472878653912,\n",
       " 0.9354472622204271,\n",
       " -1.7059629698039656,\n",
       " 0.7787686385413711,\n",
       " -0.5374514023655089,\n",
       " -0.7981837684879076,\n",
       " -0.7036981862692403,\n",
       " -0.7036981862692403,\n",
       " -0.8394464594568192,\n",
       " 0.7787686385413711,\n",
       " -0.8394464594568192,\n",
       " -0.9847628928690735,\n",
       " 0.88617123706335,\n",
       " 1.453921944395013,\n",
       " 0.8888024811251355,\n",
       " 2.3239368133243063,\n",
       " 3.04403057173322,\n",
       " 0.8888024811251355,\n",
       " 2.070769273879541,\n",
       " 0.7058114168282225,\n",
       " -0.8233001890776801,\n",
       " 0.7787686385413711,\n",
       " 0.2818223168723037,\n",
       " 1.2260203280435316,\n",
       " -0.8215061590355534,\n",
       " -0.10568817222704141,\n",
       " 1.5250851360660347,\n",
       " -0.7981837684879076,\n",
       " -0.7036981862692403,\n",
       " -1.0601121546383907,\n",
       " -0.8233001890776801,\n",
       " 0.8260114296507047,\n",
       " 0.8260114296507047,\n",
       " 0.6304621550589056,\n",
       " -0.29286530662224936,\n",
       " 0.538368612896407,\n",
       " 0.35418152857140983,\n",
       " -0.9333340316614445,\n",
       " 1.3026254108423367,\n",
       " 0.6884691264209988,\n",
       " 0.25730390629657335,\n",
       " -0.7036981862692403,\n",
       " -0.5356573723233823,\n",
       " -0.4854245311438374,\n",
       " 1.301489191815657,\n",
       " 0.5371725928683224,\n",
       " -0.8233001890776801,\n",
       " -0.3580483981528493,\n",
       " 3.310145027981999,\n",
       " -0.9847628928690735,\n",
       " -0.7222364967045481,\n",
       " 0.034844181072875416,\n",
       " -1.019447473683521,\n",
       " 0.8260114296507047,\n",
       " 0.45584323095858337,\n",
       " -0.7036981862692403,\n",
       " 0.45584323095858337,\n",
       " 1.5723877281767733,\n",
       " -0.5966543937556863,\n",
       " 1.6140092251541103,\n",
       " 1.2972433207159577,\n",
       " 1.3026254108423367,\n",
       " 1.4909985652656297,\n",
       " 0.5628870234721369,\n",
       " 1.453921944395013,\n",
       " -0.7036981862692403,\n",
       " -0.6295449445280075,\n",
       " -0.7036981862692403,\n",
       " 3.150476354232732,\n",
       " 0.5606145854187767,\n",
       " 0.6011596643708377,\n",
       " -1.2592494893144428,\n",
       " -0.3921349689532546,\n",
       " -1.749617700829046,\n",
       " -0.09133593189002852,\n",
       " -0.7036981862692403,\n",
       " -0.7389807770977298,\n",
       " -0.5386474223935931,\n",
       " -0.36821456839156674,\n",
       " 0.3314571480378061,\n",
       " 2.3850235362587173,\n",
       " 0.5771196618063417,\n",
       " 0.7787686385413711,\n",
       " 0.406208399793081,\n",
       " 0.7787686385413711,\n",
       " -0.3580483981528493,\n",
       " 0.05756856160647913,\n",
       " 2.152397640796302,\n",
       " 0.2321874857068013,\n",
       " -0.3789787486443263,\n",
       " -0.6785817656794678,\n",
       " 0.8252938176338541,\n",
       " -0.5105409517336098,\n",
       " 2.086018529237618,\n",
       " -0.9638325423775966,\n",
       " 1.3815627326959075,\n",
       " 1.3493299929390328,\n",
       " -0.9847628928690735,\n",
       " 0.701625346729927,\n",
       " 1.524487126051993,\n",
       " -1.749617700829046,\n",
       " 0.5706611536546856,\n",
       " 1.1375746469666905,\n",
       " 0.2321874857068013,\n",
       " 2.152397640796302,\n",
       " 0.8260114296507047,\n",
       " 0.8260114296507047,\n",
       " 1.928741895544519,\n",
       " -0.8394464594568192,\n",
       " 0.7638183881903161,\n",
       " -0.08655185177769102,\n",
       " 0.8699053646814019,\n",
       " -1.3752634320386294,\n",
       " 0.7793666485554132,\n",
       " 0.6011596643708377,\n",
       " 1.8103359127641643,\n",
       " 0.7422900276847966,\n",
       " 2.152577043800514,\n",
       " -0.7036981862692403,\n",
       " 0.4056103897790389,\n",
       " 1.3026254108423367,\n",
       " 0.2321874857068013,\n",
       " -0.17146927377168295,\n",
       " -0.32156978729627517,\n",
       " 0.2321874857068013,\n",
       " 1.2434224194521595,\n",
       " 0.40680640980712307,\n",
       " -0.37120461846177755,\n",
       " 1.0694613063672842,\n",
       " 1.3026254108423367,\n",
       " -0.7981837684879076,\n",
       " -0.1050901622129989,\n",
       " -0.6277509144858808,\n",
       " -0.2420344554286624,\n",
       " -0.8215061590355534,\n",
       " 0.8733738227628466,\n",
       " 0.7022233567439696,\n",
       " 0.49094641878286066,\n",
       " 0.45584323095858337,\n",
       " -0.3975170590796342,\n",
       " 2.152397640796302,\n",
       " 0.872656210745996,\n",
       " 0.2321874857068013,\n",
       " 0.5563089133176727,\n",
       " 0.9276731320378784,\n",
       " -1.2335350587106282,\n",
       " 2.591336991103276,\n",
       " 0.7632203781762736,\n",
       " -1.2335350587106282,\n",
       " 1.5327396642457758,\n",
       " -0.17146927377168295,\n",
       " -1.749617700829046,\n",
       " -1.749617700829046,\n",
       " 0.5776578708189792,\n",
       " 1.1406244980383058,\n",
       " 0.8870084510830089,\n",
       " -0.18103743399635835,\n",
       " -0.3580483981528493,\n",
       " -0.26774888603247693,\n",
       " -0.18103743399635835,\n",
       " 0.7165755970809821,\n",
       " 1.1785383329285812,\n",
       " 1.4909985652656297,\n",
       " 1.9263498554883507,\n",
       " 2.362299155725113,\n",
       " 0.5371725928683224,\n",
       " 0.8397656599736751,\n",
       " 0.8888024811251355,\n",
       " 0.32188898781313113,\n",
       " 1.152465096316341,\n",
       " 1.3570443221201776,\n",
       " 0.6627546958171843,\n",
       " 0.538368612896407,\n",
       " 0.15624021392344187,\n",
       " 1.514918965827318,\n",
       " -1.1235012161268636,\n",
       " -0.3580483981528493,\n",
       " 0.2321874857068013,\n",
       " -0.5416374724638043,\n",
       " 0.45584323095858337,\n",
       " 1.218425600865195,\n",
       " -1.0601121546383907,\n",
       " 3.169194067672252,\n",
       " -1.1235012161268636,\n",
       " 0.8623704385044703,\n",
       " 0.2321874857068013,\n",
       " 0.8397656599736751,\n",
       " -1.331608701013549,\n",
       " 0.2321874857068013,\n",
       " 0.9276731320378784,\n",
       " -1.2335350587106282,\n",
       " 0.7632203781762736,\n",
       " 1.812249544809099,\n",
       " 1.1724386307853505,\n",
       " 1.309203520996801,\n",
       " 1.1764452978794329,\n",
       " -0.8663569100887183,\n",
       " 0.6011596643708377,\n",
       " 0.8397656599736751,\n",
       " -0.3969190490655921,\n",
       " 0.8098651592715652,\n",
       " -0.36821456839156674,\n",
       " 0.8397656599736751,\n",
       " -0.37120461846177755,\n",
       " 0.1819546445272564,\n",
       " 0.7004293267018429,\n",
       " 1.3630244222605992,\n",
       " -1.0601121546383907,\n",
       " 0.8397656599736751,\n",
       " -0.06801354134238272,\n",
       " 0.7422900276847966,\n",
       " 0.4313248203828534,\n",
       " 0.39365018949819475,\n",
       " -0.3789787486443263,\n",
       " -0.8233001890776801,\n",
       " 0.6537845456065513,\n",
       " 0.11976160306686776,\n",
       " 1.0018263737791107,\n",
       " 0.7632203781762736,\n",
       " 0.3810919792033085,\n",
       " 0.4689994512675117,\n",
       " 1.152465096316341,\n",
       " 0.6220900148623147,\n",
       " 0.6537845456065513,\n",
       " 0.3822879992313931,\n",
       " 0.007335720426934218,\n",
       " 0.09524319249113739,\n",
       " 1.1803921639721116,\n",
       " -0.26774888603247693,\n",
       " 0.6011596643708377,\n",
       " 1.0682054853377956,\n",
       " -0.7036981862692403,\n",
       " 0.7997587900342522,\n",
       " -1.3017082003114389,\n",
       " 0.46971706328436236,\n",
       " -0.9847628928690735,\n",
       " -0.5966543937556863,\n",
       " 0.8520846662629447,\n",
       " 0.20025375095694795,\n",
       " 2.1381650024620975,\n",
       " -0.5105409517336098,\n",
       " -0.49379667134042815,\n",
       " 0.8324101368009559,\n",
       " 0.45584323095858337,\n",
       " -1.749617700829046,\n",
       " 0.25670589628253127,\n",
       " 1.108152554275814,\n",
       " -0.7389807770977298,\n",
       " -0.1864195241227379,\n",
       " 0.9270751220238362,\n",
       " 0.4503415388293952,\n",
       " -1.749617700829046,\n",
       " -0.06801354134238272,\n",
       " -1.749617700829046,\n",
       " 2.8903838588253583,\n",
       " -0.5386474223935931,\n",
       " -0.7904096383053588,\n",
       " -0.27193495613077234,\n",
       " 0.27464619670379703,\n",
       " 1.3026254108423367,\n",
       " -0.7389807770977298,\n",
       " 0.4689994512675117,\n",
       " 5.588742584486989,\n",
       " 1.928741895544519,\n",
       " 0.7632203781762736,\n",
       " -0.4244275097115333,\n",
       " -0.5870862335310113,\n",
       " -0.21572201481080577,\n",
       " 0.1000272726034753,\n",
       " -0.5374514023655089,\n",
       " -1.0601121546383907,\n",
       " 1.0633616042240528,\n",
       " 0.8098651592715652,\n",
       " -0.2199080849091012,\n",
       " -0.4920026412983015,\n",
       " -1.0601121546383907,\n",
       " 0.6089337945533865,\n",
       " -0.04887722089303234,\n",
       " 1.3026254108423367,\n",
       " 0.8188353094821981,\n",
       " 1.4802343850128699,\n",
       " -0.5870862335310113,\n",
       " -0.5105409517336098,\n",
       " -0.7222364967045481,\n",
       " -1.1235012161268636,\n",
       " 0.20946310517319758,\n",
       " 0.35418152857140983,\n",
       " 0.6537845456065513,\n",
       " 0.6418243453257072,\n",
       " 0.8483172031744787,\n",
       " -0.06801354134238272,\n",
       " 0.9151149217429921,\n",
       " -0.7904096383053588,\n",
       " 6.218770054681007,\n",
       " -1.3692833318982074,\n",
       " 0.4056103897790389,\n",
       " -0.37120461846177755,\n",
       " 0.2812243068582616,\n",
       " 0.3810919792033085,\n",
       " 1.5023607555324314,\n",
       " 0.35962341969919387,\n",
       " -0.8233001890776801,\n",
       " -0.37120461846177755,\n",
       " -0.5882822535590959,\n",
       " 1.2912632205755352,\n",
       " 0.1819546445272564,\n",
       " 0.4295307903407268,\n",
       " -0.7425688371819831,\n",
       " 0.7632203781762736,\n",
       " -0.9847628928690735,\n",
       " 1.1242390236535496,\n",
       " 0.8928689492206228,\n",
       " 0.5192322924470566,\n",
       " -0.7634991876734601,\n",
       " 1.309203520996801,\n",
       " 1.1824253980198554,\n",
       " 0.20946310517319758,\n",
       " 1.1764452978794329,\n",
       " 0.7632203781762736,\n",
       " 0.1819546445272564,\n",
       " 0.1819546445272564,\n",
       " 0.007335720426934218,\n",
       " 0.6059437444831756,\n",
       " 0.7321238574460796,\n",
       " -0.18103743399635835,\n",
       " 0.8397656599736751,\n",
       " 0.8397656599736751,\n",
       " 0.6220900148623147,\n",
       " -0.8233001890776801,\n",
       " -1.749617700829046,\n",
       " 0.6884691264209988,\n",
       " 0.3188989377429199,\n",
       " -0.9847628928690735,\n",
       " -0.8215061590355534,\n",
       " -0.5374514023655089,\n",
       " 1.2733229201542693,\n",
       " -1.1235012161268636,\n",
       " 1.3271438214180675,\n",
       " 0.8427557100438859,\n",
       " 0.9961452786457099,\n",
       " 0.32188898781313113,\n",
       " -1.0816405151439097,\n",
       " 0.7321238574460796,\n",
       " -0.9333340316614445,\n",
       " 0.5491327931491665,\n",
       " -0.7981837684879076,\n",
       " 1.1995882854228659,\n",
       " 0.7883367987660461,\n",
       " 0.1000272726034753,\n",
       " 0.833665957830445,\n",
       " 0.007335720426934218,\n",
       " 0.3810919792033085,\n",
       " -0.37120461846177755,\n",
       " -0.5966543937556863,\n",
       " 0.7998185910356563,\n",
       " -0.3975170590796342,\n",
       " 1.492194585293714,\n",
       " 1.0329826955107102,\n",
       " -0.685159875833932,\n",
       " -0.9847628928690735,\n",
       " 0.7787686385413711,\n",
       " -0.4160553695149425,\n",
       " 1.4909985652656297,\n",
       " 0.7321238574460796,\n",
       " 0.1448780236566402,\n",
       " 0.2692641065774175,\n",
       " 0.11976160306686776,\n",
       " 0.7494661478533032,\n",
       " 0.3188989377429199,\n",
       " -1.749617700829046,\n",
       " 0.213649175271493,\n",
       " 0.8397656599736751,\n",
       " 1.3026254108423367,\n",
       " 1.7481428713037752,\n",
       " -0.5386474223935931,\n",
       " -0.7981837684879076,\n",
       " -0.46270015061023406,\n",
       " -0.32156978729627517,\n",
       " 1.6204079323043616,\n",
       " -0.7389807770977298,\n",
       " 0.15624021392344187,\n",
       " 0.48335169160452457,\n",
       " -0.8233001890776801,\n",
       " 0.45584323095858337,\n",
       " 0.20946310517319758,\n",
       " 0.9270751220238362,\n",
       " -1.2335350587106282,\n",
       " -1.0601121546383907,\n",
       " -0.05485732103345441,\n",
       " 3.1563966533717487,\n",
       " -0.567949913081661,\n",
       " -1.3298146709714225,\n",
       " 1.1764452978794329,\n",
       " -0.7389807770977298,\n",
       " -0.6409071347948091,\n",
       " -0.6295449445280075,\n",
       " 0.4056103897790389,\n",
       " -1.749617700829046,\n",
       " 2.283361833871543,\n",
       " 1.0927238959135255,\n",
       " -0.004624479853909505,\n",
       " 0.19451285482214262,\n",
       " 0.5103219432378282,\n",
       " -0.7192464466343373,\n",
       " -0.26774888603247693,\n",
       " 0.7321238574460796,\n",
       " -0.9847628928690735,\n",
       " -0.5870862335310113,\n",
       " -1.749617700829046,\n",
       " 1.4112838303938047,\n",
       " 0.7321238574460796,\n",
       " 0.32924451098585006,\n",
       " 0.5754452337670232,\n",
       " 0.5754452337670232,\n",
       " 1.1246576306633784,\n",
       " -1.0074872734026772,\n",
       " 0.5964353852599047,\n",
       " 0.45584323095858337,\n",
       " 0.4588332810287946,\n",
       " 0.8397656599736751,\n",
       " 0.3368392381641861,\n",
       " -0.06801354134238272,\n",
       " -0.4202414396132379,\n",
       " 0.6220900148623147,\n",
       " -0.9847628928690735,\n",
       " -0.38675287882687465,\n",
       " 0.9358658692302565,\n",
       " -1.1235012161268636,\n",
       " 0.1000272726034753,\n",
       " 1.4316161708712398,\n",
       " 2.6443804793488193,\n",
       " -0.3580483981528493,\n",
       " 0.6011596643708377,\n",
       " 0.5006939820117483,\n",
       " -0.09133593189002852,\n",
       " -1.0044972233324663,\n",
       " 0.9013606914200217,\n",
       " -1.0601121546383907,\n",
       " 0.8134532193558185,\n",
       " 0.8397656599736751,\n",
       " 0.4941158718572841,\n",
       " -0.8663569100887183,\n",
       " -1.0601121546383907,\n",
       " -1.5283539956334322,\n",
       " -0.5512056326884793,\n",
       " 1.5936170836752717,\n",
       " 0.5282024426576895,\n",
       " -0.7036981862692403,\n",
       " 0.4432850206636971,\n",
       " -1.0601121546383907,\n",
       " 0.8750482508021651,\n",
       " 0.06952876188732285,\n",
       " 0.40680640980712307,\n",
       " -0.7634991876734601,\n",
       " -1.2335350587106282,\n",
       " -1.749617700829046,\n",
       " -0.06801354134238272,\n",
       " 1.6817637597450912,\n",
       " -0.18103743399635835,\n",
       " -1.749617700829046,\n",
       " 0.5754452337670232,\n",
       " -1.3878216423335157,\n",
       " 0.32188898781313113,\n",
       " -1.0601121546383907,\n",
       " 1.218425600865195,\n",
       " -1.0601121546383907,\n",
       " 0.3487994384450298,\n",
       " -0.7634991876734601,\n",
       " -0.11107026235342098,\n",
       " -1.2454952589914723,\n",
       " 0.5754452337670232,\n",
       " -1.749617700829046,\n",
       " -0.3137956571137264,\n",
       " 1.4264732847504769,\n",
       " 0.27464619670379703,\n",
       " -0.36821456839156674,\n",
       " 1.0973943541231945,\n",
       " 2.5656823615008655,\n",
       " 0.4689994512675117,\n",
       " -0.9847628928690735,\n",
       " -0.8215061590355534,\n",
       " 0.6011596643708377,\n",
       " 1.067607475323753,\n",
       " -0.9147957212261362,\n",
       " -0.4202414396132379,\n",
       " -0.8394464594568192,\n",
       " -0.6881499259041428,\n",
       " -0.37120461846177755,\n",
       " -0.4190454195851533,\n",
       " 0.3111248075603716,\n",
       " 0.6011596643708377,\n",
       " -0.5829001634327159,\n",
       " -0.6277509144858808,\n",
       " -1.2849639199182574,\n",
       " -0.7036981862692403,\n",
       " -0.7036981862692403,\n",
       " -0.6409071347948091,\n",
       " -0.9847628928690735,\n",
       " -0.36821456839156674,\n",
       " 0.49830194195557953,\n",
       " -1.3298146709714225,\n",
       " 0.8395264559680584,\n",
       " 0.7494661478533032,\n",
       " -0.6881499259041428,\n",
       " -0.8950613907627437,\n",
       " -1.3692833318982074,\n",
       " 0.8134532193558185,\n",
       " 0.4056103897790389,\n",
       " 1.4502142823079516,\n",
       " -1.749617700829046,\n",
       " -1.749617700829046,\n",
       " -0.3975170590796342,\n",
       " -0.370008598433693,\n",
       " -1.749617700829046,\n",
       " -0.7036981862692403,\n",
       " -0.3137956571137264,\n",
       " -0.6277509144858808,\n",
       " -1.2335350587106282,\n",
       " -1.0601121546383907,\n",
       " -1.4458286136956089,\n",
       " -1.0930027054107117,\n",
       " 0.45584323095858337,\n",
       " 0.6693328059716483,\n",
       " 0.45584323095858337,\n",
       " 1.1262124566998888,\n",
       " 0.44926512080411923,\n",
       " -0.06801354134238272,\n",
       " 1.1082721562786222,\n",
       " 0.7826557036326452,\n",
       " 0.8397656599736751,\n",
       " 1.3026254108423367,\n",
       " 0.8262506336563211,\n",
       " -0.6403091247807671,\n",
       " 0.3368392381641861,\n",
       " -1.3692833318982074,\n",
       " -1.3298146709714225,\n",
       " -0.4202414396132379,\n",
       " 0.1000272726034753,\n",
       " 1.1764452978794329,\n",
       " -0.028544880415597374,\n",
       " 0.8098651592715652,\n",
       " 1.2159139588062187,\n",
       " -0.8233001890776801,\n",
       " -0.6277509144858808,\n",
       " 1.8171532269242447,\n",
       " 0.5228203525313099,\n",
       " -0.3789787486443263,\n",
       " -0.568547923095703,\n",
       " 0.5327473187644106,\n",
       " 1.8653528340560466,\n",
       " -0.2611707758780128,\n",
       " -0.06801354134238272,\n",
       " -0.5105409517336098,\n",
       " 0.6249006619283128,\n",
       " -0.5105409517336098,\n",
       " 0.5718571736827702,\n",
       " 0.3870720793437306,\n",
       " 0.35418152857140983,\n",
       " -0.14037275304148883,\n",
       " -0.27193495613077234,\n",
       " 1.0373481686132178,\n",
       " -0.4160553695149425,\n",
       " -0.4160553695149425,\n",
       " 0.5829801599439551,\n",
       " 1.3425126787789516,\n",
       " -0.5966543937556863,\n",
       " -0.6295449445280075,\n",
       " -0.1050901622129989,\n",
       " -0.36821456839156674,\n",
       " -0.17146927377168295,\n",
       " -1.3298146709714225,\n",
       " -0.9847628928690735,\n",
       " 0.1839878785749998,\n",
       " 0.45285318088837256,\n",
       " 0.4498631308181617,\n",
       " -0.44894592028726327,\n",
       " 0.6011596643708377,\n",
       " -0.06801354134238272,\n",
       " 0.4498631308181617,\n",
       " 0.5282024426576895,\n",
       " 0.4498631308181617,\n",
       " 0.27943027681613497,\n",
       " 1.684454804808281,\n",
       " 1.240252966377736,\n",
       " 1.1423587270790279,\n",
       " 0.1000272726034753,\n",
       " 0.6011596643708377,\n",
       " 1.0694015053658796,\n",
       " -1.749617700829046,\n",
       " 0.8190147124864112,\n",
       " -1.3172564606765362,\n",
       " 0.4056103897790389,\n",
       " -0.8053598886564138,\n",
       " -0.7036981862692403,\n",
       " -0.35685237812476467,\n",
       " 0.4498631308181617,\n",
       " 3.24753337951178,\n",
       " 1.1764452978794329,\n",
       " -0.36821456839156674,\n",
       " 2.7402355044996427,\n",
       " -0.8215061590355534,\n",
       " 0.5192920934484611,\n",
       " -1.0601121546383907,\n",
       " 1.754481777452623,\n",
       " 1.2008441064523547,\n",
       " -0.5105409517336098,\n",
       " -0.27193495613077234,\n",
       " -0.27193495613077234,\n",
       " 0.039628261185212905,\n",
       " 0.32188898781313113,\n",
       " -0.4854245311438374,\n",
       " 0.8397656599736751,\n",
       " -0.18103743399635835,\n",
       " -0.7981837684879076,\n",
       " 0.4654113911832588,\n",
       " 0.9486034825293553,\n",
       " -1.105560915705598,\n",
       " 0.213649175271493,\n",
       " -0.38495884878474795,\n",
       " 0.6011596643708377,\n",
       " -0.8215061590355534,\n",
       " -0.11107026235342098,\n",
       " 1.1764452978794329,\n",
       " 0.45285318088837256,\n",
       " 0.3870720793437306,\n",
       " 1.0765776255343855,\n",
       " 0.46720542122538544,\n",
       " -0.36821456839156674,\n",
       " -0.9847628928690735,\n",
       " -0.9847628928690735,\n",
       " -0.36821456839156674,\n",
       " 1.0586373251131198,\n",
       " 0.655578575648678,\n",
       " -0.4160553695149425,\n",
       " 2.507579708536525,\n",
       " 0.4498631308181617,\n",
       " -0.5302752821970023,\n",
       " 2.5164063363437887,\n",
       " 1.1100661863207488,\n",
       " 0.4520757678701174,\n",
       " 0.4056103897790389,\n",
       " 0.4654113911832588,\n",
       " 1.4909985652656297,\n",
       " 0.6011596643708377,\n",
       " 0.7022233567439696,\n",
       " 0.8031076461128884,\n",
       " 0.8397656599736751,\n",
       " 0.4498631308181617,\n",
       " 0.8229735387793703,\n",
       " 0.046206371339677484,\n",
       " 1.1242390236535496,\n",
       " 0.20946310517319758,\n",
       " 0.9270751220238362,\n",
       " 0.4498631308181617,\n",
       " -0.18103743399635835,\n",
       " -0.44894592028726327,\n",
       " 1.0927238959135255,\n",
       " 0.6848810663367458,\n",
       " -0.06801354134238272,\n",
       " 1.1100661863207488,\n",
       " 0.8397656599736751,\n",
       " 0.32188898781313113,\n",
       " -0.4920026412983015,\n",
       " -1.749617700829046,\n",
       " 0.8060976961830992,\n",
       " -0.06801354134238272,\n",
       " 0.45584323095858337,\n",
       " -1.1235012161268636,\n",
       " -0.7981837684879076,\n",
       " 0.029462090946495847,\n",
       " 0.5108601522504658,\n",
       " 0.7285357973618262,\n",
       " 1.8124289478133118,\n",
       " 0.4056103897790389,\n",
       " 0.20946310517319758,\n",
       " 1.019168664186335,\n",
       " -0.06801354134238272,\n",
       " -0.43100561986599745,\n",
       " 1.3024460078381241,\n",
       " -1.331608701013549,\n",
       " 0.2537158462123204,\n",
       " -0.36821456839156674,\n",
       " 0.701625346729927,\n",
       " 1.3026254108423367,\n",
       " 1.1764452978794329,\n",
       " 1.7200364006437918,\n",
       " -0.7981837684879076,\n",
       " 0.019893930721820444,\n",
       " 1.2912632205755352,\n",
       " 1.1242390236535496,\n",
       " 0.4498631308181617,\n",
       " 0.32188898781313113,\n",
       " -1.749617700829046,\n",
       " 0.9121846726741858,\n",
       " 1.2362462992836527,\n",
       " -0.05904339113174983,\n",
       " -0.11107026235342098,\n",
       " -1.692806749495037,\n",
       " 0.8056790891732698,\n",
       " -0.06801354134238272,\n",
       " -1.692806749495037,\n",
       " -0.7036981862692403,\n",
       " -0.8233001890776801,\n",
       " -0.8233001890776801,\n",
       " 0.32188898781313113,\n",
       " 0.5126541822925924,\n",
       " -0.38495884878474795,\n",
       " -0.9847628928690735,\n",
       " -0.004624479853909505,\n",
       " -0.004624479853909505,\n",
       " -0.7036981862692403,\n",
       " 0.2447456960016871,\n",
       " 0.1442800136425977,\n",
       " -0.1792434039542317,\n",
       " -0.004624479853909505,\n",
       " -0.004624479853909505,\n",
       " -0.004624479853909505,\n",
       " 0.5718571736827702,\n",
       " -0.8233001890776801,\n",
       " 0.9025567114481059,\n",
       " 0.8397656599736751,\n",
       " -0.5829001634327159,\n",
       " -0.37120461846177755,\n",
       " 0.2052770350749022,\n",
       " 1.3026254108423367,\n",
       " 0.8397656599736751,\n",
       " -0.5105409517336098,\n",
       " 0.213649175271493,\n",
       " -0.7036981862692403,\n",
       " 1.3026254108423367,\n",
       " 0.8397656599736751,\n",
       " 0.8397656599736751,\n",
       " 1.1724386307853505,\n",
       " -0.06801354134238272,\n",
       " 0.0037476603426813133,\n",
       " -0.27193495613077234,\n",
       " -0.7509409773785739,\n",
       " 0.3111248075603716,\n",
       " 0.02587403086224252,\n",
       " -0.258778735821844,\n",
       " 0.3870720793437306,\n",
       " 1.3791706926397382,\n",
       " -0.9147957212261362,\n",
       " 1.656049329141277,\n",
       " -1.749617700829046,\n",
       " 2.7223011841785176,\n",
       " 0.5754452337670232,\n",
       " 0.5909934941321207,\n",
       " 0.6011596643708377,\n",
       " -0.06801354134238272,\n",
       " 0.3104071955435209,\n",
       " 0.7989813770159975,\n",
       " -1.0074872734026772,\n",
       " -1.2335350587106282,\n",
       " 0.8397656599736751,\n",
       " -0.7587151075611223,\n",
       " 0.7943168989064682,\n",
       " -0.7036981862692403,\n",
       " -0.7036981862692403,\n",
       " 0.792463067862937,\n",
       " -0.4202414396132379,\n",
       " -1.749617700829046,\n",
       " -0.8233001890776801,\n",
       " 0.20946310517319758,\n",
       " -0.7198444566483794,\n",
       " 1.4909985652656297,\n",
       " 0.2608919663808267,\n",
       " 0.020432139734458444,\n",
       " -1.0601121546383907,\n",
       " -0.6869539058760586,\n",
       " 0.213649175271493,\n",
       " -0.9847628928690735,\n",
       " -0.8388484494427771,\n",
       " -0.17146927377168295,\n",
       " -0.4920026412983015,\n",
       " 0.213649175271493,\n",
       " 0.02587403086224252,\n",
       " 0.3870720793437306,\n",
       " 1.656049329141277,\n",
       " -0.7389807770977298,\n",
       " 0.3111248075603716,\n",
       " 0.7422900276847966,\n",
       " 1.5657498170209045,\n",
       " 0.45285318088837256,\n",
       " 0.33982928823439695,\n",
       " -0.7634991876734601,\n",
       " 0.3870720793437306,\n",
       " 0.6198175768089541,\n",
       " 0.046206371339677484,\n",
       " 1.1724386307853505,\n",
       " -0.6881499259041428,\n",
       " -0.5302752821970023,\n",
       " 2.207892970099418,\n",
       " -0.5057568716212724,\n",
       " -0.3137956571137264,\n",
       " 0.45584323095858337,\n",
       " 0.213649175271493,\n",
       " -1.3298146709714225,\n",
       " -0.26774888603247693,\n",
       " 0.11437951294048776,\n",
       " 1.186372264112534,\n",
       " -0.583498173446758,\n",
       " -0.6785817656794678,\n",
       " 1.6543151001005547,\n",
       " -0.5105409517336098,\n",
       " 0.4056103897790389,\n",
       " 0.3870720793437306,\n",
       " 0.3870720793437306,\n",
       " -0.552999662730606,\n",
       " 0.3870720793437306,\n",
       " 0.23637355580509672,\n",
       " -0.9847628928690735,\n",
       " 0.5259300046043289,\n",
       " 0.6581500187090594,\n",
       " 0.3870720793437306,\n",
       " 0.3870720793437306,\n",
       " 0.3870720793437306,\n",
       " -1.3692833318982074,\n",
       " 0.5042820420960016,\n",
       " -0.7981837684879076,\n",
       " 0.213649175271493,\n",
       " -1.749617700829046,\n",
       " 0.32188898781313113,\n",
       " 0.3870720793437306,\n",
       " -0.8663569100887183,\n",
       " -0.4920026412983015,\n",
       " -0.2199080849091012,\n",
       " 1.0708965304009848,\n",
       " -0.7186484366202952,\n",
       " 0.3870720793437306,\n",
       " 0.9791617942469119,\n",
       " -0.9847628928690735,\n",
       " -0.0766248855445903,\n",
       " -1.3017082003114389,\n",
       " -0.3377160576754143,\n",
       " -1.0601121546383907,\n",
       " 1.3026254108423367,\n",
       " -0.4160553695149425,\n",
       " 0.019893930721820444,\n",
       " 0.45584323095858337,\n",
       " -1.749617700829046,\n",
       " -1.749617700829046,\n",
       " -0.4920026412983015,\n",
       " -0.6785817656794678,\n",
       " -1.692806749495037,\n",
       " 0.1406919535583448,\n",
       " -0.00940855996624742,\n",
       " 0.45584323095858337,\n",
       " -1.0044972233324663,\n",
       " 0.06396726875673062,\n",
       " -1.749617700829046,\n",
       " -0.07997374162322687,\n",
       " -0.1050901622129989,\n",
       " 0.019893930721820444,\n",
       " -0.5966543937556863,\n",
       " -0.16728320367338753,\n",
       " -0.7904096383053588,\n",
       " 0.507870102180255,\n",
       " -0.8215061590355534,\n",
       " 1.5455370785462779,\n",
       " 1.7592658575649605,\n",
       " -1.692806749495037,\n",
       " 0.132319813361754,\n",
       " -0.06801354134238272,\n",
       " 0.5042820420960016,\n",
       " 0.3870720793437306,\n",
       " 0.6011596643708377,\n",
       " 1.1764452978794329,\n",
       " 0.5096043312209771,\n",
       " -0.13140260283085595,\n",
       " 0.33654023315716486,\n",
       " 1.1525248973177453,\n",
       " 0.8254732206380667,\n",
       " -0.5374514023655089,\n",
       " -1.0601121546383907,\n",
       " -0.1050901622129989,\n",
       " 0.34042729824843904,\n",
       " -0.9847628928690735,\n",
       " -1.692806749495037,\n",
       " 0.9608626878172204,\n",
       " 1.1615548485297824,\n",
       " 0.39365018949819475,\n",
       " -1.0074872734026772,\n",
       " 1.656049329141277,\n",
       " 0.11557553296857236,\n",
       " -0.05485732103345441,\n",
       " -0.2294762451337766,\n",
       " 0.6077377745253019,\n",
       " -0.1050901622129989,\n",
       " -1.749617700829046,\n",
       " 0.44926512080411923,\n",
       " ...]"
      ]
     },
     "execution_count": 48,
     "metadata": {},
     "output_type": "execute_result"
    }
   ],
   "source": [
    "# Standardize the column\n",
    "standardized_rate = [(x-mu)/std for x in df['hourlyrate']]\n",
    "standardized_rate"
   ]
  },
  {
   "cell_type": "code",
   "execution_count": 49,
   "metadata": {},
   "outputs": [
    {
     "data": {
      "text/plain": [
       "(-6.779179351318786e-16, 0.9999574060270278)"
      ]
     },
     "execution_count": 49,
     "metadata": {},
     "output_type": "execute_result"
    }
   ],
   "source": [
    "np.array(standardized_rate).mean(), np.array(standardized_rate).std()"
   ]
  },
  {
   "cell_type": "code",
   "execution_count": 53,
   "metadata": {},
   "outputs": [
    {
     "data": {
      "image/png": "[encoded data removed]",
      "text/plain": [
       "<Figure size 432x288 with 2 Axes>"
      ]
     },
     "metadata": {
      "needs_background": "light"
     },
     "output_type": "display_data"
    }
   ],
   "source": [
    "# Visualize it\n",
    "fig, (ax1, ax2) = plt.subplots(nrows=2, ncols=1, sharex=False)\n",
    "# Can toggle sharex to see the impact of the scale\n",
    "\n",
    "sns.kdeplot(df['hourlyrate'], ax=ax1, label='Without Scaling')\n",
    "ax1.legend()\n",
    "\n",
    "sns.kdeplot(standardized_rate, ax=ax2, label='With Scaling')\n",
    "ax2.legend()\n",
    "\n",
    "plt.show()"
   ]
  },
  {
   "cell_type": "markdown",
   "metadata": {},
   "source": [
    "Let's discuss:\n",
    "\n",
    "- \n"
   ]
  },
  {
   "cell_type": "markdown",
   "metadata": {},
   "source": [
    "## Central Limit Theorem (CLT)\n",
    "\n",
    "We mentioned that the distribution above doesn't seem very normal. But here's something cool:\n",
    "\n",
    "> \"The central limit theorem states that the sampling distribution of the mean of any independent, random variable will be normal or nearly normal, if the sample size is large enough.\" \n",
    "- From [Stat Trek](https://stattrek.com/statistics/dictionary.aspx?definition=central_limit_theorem)"
   ]
  },
  {
   "cell_type": "markdown",
   "metadata": {},
   "source": [
    "Let's look at an example, using the popular Iris dataset:\n",
    "\n",
    "<img src=\"images/probability-basics.gif\" width=800>\n",
    "\n",
    "Here, taking samples of 15 flowers at a time and measuring their sepal lengths, we see that the the mean of the samples is normally distributed, where the mean of that normal distribution approximates the population mean. \n",
    "\n",
    "The coolest part is - this is true and works almost no matter what the original distribution is! (I say 'almost' because there are exceptions, of course). \n"
   ]
  },
  {
   "cell_type": "markdown",
   "metadata": {},
   "source": [
    "## Revisiting Sampling\n",
    "\n",
    "Before we apply a theorem that's related to sampling, we should remember some key things about sampling.\n",
    "\n",
    "<img src=\"images/sample_pop.png\" alt=\"sampling example with circled people\" width=800>\n",
    "\n",
    "Our goal when sampling is to find a representative group, from which we can infer population parameters.\n",
    "\n",
    "Remember: samples have statistics, populations have parameters.\n",
    "\n",
    "In order to do this effectively, our sample should be randomly selected and representative of our population (which sounds nice and easy, it's hard to do in practice). We are trying to minimize bias in our sample, but also we are sampling because we're trying to minimize cost as well."
   ]
  },
  {
   "cell_type": "markdown",
   "metadata": {},
   "source": [
    "### Back to our Seattle Data"
   ]
  },
  {
   "cell_type": "markdown",
   "metadata": {},
   "source": [
    "Let's take 100 samples of 50 employees each time, and see what their average hourly rate is:"
   ]
  },
  {
   "cell_type": "code",
   "execution_count": 54,
   "metadata": {},
   "outputs": [],
   "source": [
    "k = 100 # number of samples\n",
    "n = 50 # number of employees per sample\n",
    "\n",
    "# Calculate our 100 samples\n",
    "sample_means = [np.mean(df.sample(n=n))[0] for x in range(k)]"
   ]
  },
  {
   "cell_type": "code",
   "execution_count": 55,
   "metadata": {},
   "outputs": [
    {
     "data": {
      "text/plain": [
       "[48.849358,\n",
       " 46.47580000000001,\n",
       " 51.771332,\n",
       " 46.4278,\n",
       " 44.67478,\n",
       " 42.42320000000001,\n",
       " 49.439933999999994,\n",
       " 44.70368799999999,\n",
       " 46.695139999999995,\n",
       " 44.38543799999999,\n",
       " 46.28791200000001,\n",
       " 49.190842,\n",
       " 48.719359999999995,\n",
       " 51.03924,\n",
       " 47.19469999999999,\n",
       " 47.936778000000004,\n",
       " 49.751204,\n",
       " 49.17056,\n",
       " 45.180879999999995,\n",
       " 47.100899999999996,\n",
       " 47.575466000000006,\n",
       " 45.566632,\n",
       " 43.883,\n",
       " 48.977102,\n",
       " 51.29746599999999,\n",
       " 48.76204,\n",
       " 43.43624,\n",
       " 46.412499999999994,\n",
       " 47.578606,\n",
       " 46.789959999999994,\n",
       " 41.59103999999999,\n",
       " 47.553518000000004,\n",
       " 44.39036,\n",
       " 47.16978,\n",
       " 50.93303000000001,\n",
       " 47.426280000000006,\n",
       " 47.11762000000001,\n",
       " 48.463553999999995,\n",
       " 48.45788,\n",
       " 49.88607199999999,\n",
       " 49.305762,\n",
       " 47.99478,\n",
       " 45.72477799999999,\n",
       " 48.16853999999999,\n",
       " 51.913742,\n",
       " 47.502424,\n",
       " 49.291148,\n",
       " 47.418102,\n",
       " 52.511467999999994,\n",
       " 49.061952,\n",
       " 47.500339999999994,\n",
       " 46.84726,\n",
       " 45.164272000000004,\n",
       " 43.16604000000001,\n",
       " 47.38752,\n",
       " 49.84123800000001,\n",
       " 49.187819999999995,\n",
       " 50.80961200000001,\n",
       " 50.18491999999999,\n",
       " 44.7463,\n",
       " 42.69292,\n",
       " 45.96184600000001,\n",
       " 46.839196,\n",
       " 51.22230000000001,\n",
       " 45.12649999999999,\n",
       " 47.141642000000004,\n",
       " 46.811488,\n",
       " 47.465970000000006,\n",
       " 47.814896,\n",
       " 46.62517,\n",
       " 48.77833799999999,\n",
       " 49.50058400000001,\n",
       " 48.46636200000001,\n",
       " 49.047452,\n",
       " 46.42143800000001,\n",
       " 49.580396,\n",
       " 49.615871999999996,\n",
       " 47.69959,\n",
       " 49.07154,\n",
       " 47.96795999999999,\n",
       " 46.789426000000006,\n",
       " 48.526704,\n",
       " 48.66658,\n",
       " 48.512570000000004,\n",
       " 51.79288000000001,\n",
       " 51.761798,\n",
       " 48.01637999999999,\n",
       " 51.723952,\n",
       " 47.498234000000004,\n",
       " 48.330494,\n",
       " 47.631935999999996,\n",
       " 44.106942,\n",
       " 44.83967,\n",
       " 44.68028999999999,\n",
       " 45.322160000000004,\n",
       " 49.061732,\n",
       " 50.422700000000006,\n",
       " 53.015152,\n",
       " 46.380916000000006,\n",
       " 46.39372399999999]"
      ]
     },
     "execution_count": 55,
     "metadata": {},
     "output_type": "execute_result"
    }
   ],
   "source": [
    "sample_means"
   ]
  },
  {
   "cell_type": "code",
   "execution_count": 57,
   "metadata": {
    "scrolled": false
   },
   "outputs": [
    {
     "data": {
      "image/png": "[encoded data removed]",
      "text/plain": [
       "<Figure size 576x432 with 1 Axes>"
      ]
     },
     "metadata": {
      "needs_background": "light"
     },
     "output_type": "display_data"
    }
   ],
   "source": [
    "# Plotting the distribution of our samples, plus our pop and sample means\n",
    "pop_mean = df['hourlyrate'].mean()\n",
    "samp_mean = np.mean(sample_means)\n",
    "\n",
    "plt.figure(figsize=(8,6))\n",
    "\n",
    "sns.histplot(sample_means)\n",
    "\n",
    "plt.vlines(pop_mean, ymin=0, ymax=25, color='r', linestyle=':',\n",
    "           label=f'Population Mean: {pop_mean:.2f}')\n",
    "plt.vlines(samp_mean, ymin=0, ymax=25, color='g', linestyle=':',\n",
    "           label=f'Mean of {k} Samples: {samp_mean:.2f}')\n",
    "\n",
    "plt.legend();"
   ]
  },
  {
   "cell_type": "markdown",
   "metadata": {},
   "source": [
    "Discuss:\n",
    "\n",
    "- \n"
   ]
  },
  {
   "cell_type": "markdown",
   "metadata": {},
   "source": [
    "-----\n",
    "\n",
    "\n",
    "# Level Up: Other Distributions"
   ]
  },
  {
   "cell_type": "markdown",
   "metadata": {},
   "source": [
    "The world is full of distributions to explore! See some other less-common ones below:"
   ]
  },
  {
   "cell_type": "markdown",
   "metadata": {},
   "source": [
    "![](images/distributions.png)"
   ]
  },
  {
   "cell_type": "markdown",
   "metadata": {},
   "source": [
    "Now that we know a few methods in visualizing distributions 📊👀, we can start looking at different types of distributions.\n",
    "\n",
    "We can tell a lot about a distribution shape such as taking a guess of the mechanism that it took to generate the data."
   ]
  },
  {
   "cell_type": "markdown",
   "metadata": {
    "heading_collapsed": true
   },
   "source": [
    "## Distribution Types Exercise"
   ]
  },
  {
   "cell_type": "markdown",
   "metadata": {
    "hidden": true
   },
   "source": [
    "What type of distribution would you expect to best describe the following datasets?\n",
    "\n",
    "1. Survey responses about whether people voted\n",
    "2. Rolls on a six-sided die\n",
    "3. Numbers of defects in shipments of toys\n",
    "4. Output from a random number generator\n",
    "5. Measurements of palm tree heights"
   ]
  },
  {
   "cell_type": "markdown",
   "metadata": {
    "hidden": true
   },
   "source": [
    "**Your answers**\n",
    "\n",
    "1. Binomial\n",
    "2. Uniform\n",
    "3. Binomial\n",
    "4. Normal\n",
    "5. Normal"
   ]
  },
  {
   "cell_type": "markdown",
   "metadata": {},
   "source": [
    "## Level Up: SKLearn's Standard Scaler\n",
    "\n",
    "Soon we'll be using a pre-built function to scale our data: https://scikit-learn.org/stable/modules/generated/sklearn.preprocessing.StandardScaler.html\n",
    "\n",
    "Let's go ahead and peek at our first `sklearn` class!"
   ]
  },
  {
   "cell_type": "code",
   "execution_count": 59,
   "metadata": {},
   "outputs": [],
   "source": [
    "# Importing StandardScaler from the preprocessing module\n",
    "from sklearn.preprocessing import StandardScaler\n",
    "\n",
    "# Need to instantiate our scaler\n",
    "scaler = StandardScaler()\n",
    "\n",
    "# Fitting our scaler (note how we need to make the column into a dataframe)\n",
    "scaler.fit(df[['hourlyrate']])\n",
    "\n",
    "# Grabbing the transformed values out as scaled_rate\n",
    "scaled_rate = scaler.transform(df[['hourlyrate']])"
   ]
  },
  {
   "cell_type": "code",
   "execution_count": 60,
   "metadata": {
    "scrolled": false
   },
   "outputs": [
    {
     "data": {
      "image/png": "[encoded data removed]",
      "text/plain": [
       "<Figure size 720x432 with 3 Axes>"
      ]
     },
     "metadata": {
      "needs_background": "light"
     },
     "output_type": "display_data"
    }
   ],
   "source": [
    "# Plot and compare results\n",
    "fig, (ax1, ax2, ax3) = plt.subplots(nrows=3, ncols=1, figsize=(10,6))\n",
    "\n",
    "sns.kdeplot(df['hourlyrate'], ax=ax1, label='Without Scaling')\n",
    "ax1.legend()\n",
    "\n",
    "sns.kdeplot(standardized_rate, ax=ax2, label='Manual Scaling')\n",
    "ax2.legend()\n",
    "\n",
    "sns.kdeplot(scaled_rate[:,0], ax=ax3, label='SKLearn Standard Scaling')\n",
    "ax3.legend()\n",
    "\n",
    "plt.show()"
   ]
  },
  {
   "cell_type": "code",
   "execution_count": null,
   "metadata": {},
   "outputs": [],
   "source": []
  }
 ],
 "metadata": {
  "kernelspec": {
   "display_name": "Python 3",
   "language": "python",
   "name": "python3"
  },
  "language_info": {
   "codemirror_mode": {
    "name": "ipython",
    "version": 3
   },
   "file_extension": ".py",
   "mimetype": "text/x-python",
   "name": "python",
   "nbconvert_exporter": "python",
   "pygments_lexer": "ipython3",
   "version": "3.8.5"
  },
  "toc": {
   "base_numbering": 1,
   "nav_menu": {},
   "number_sections": true,
   "sideBar": true,
   "skip_h1_title": false,
   "title_cell": "Table of Contents",
   "title_sidebar": "TOC",
   "toc_cell": true,
   "toc_position": {
    "height": "calc(100% - 180px)",
    "left": "10px",
    "top": "150px",
    "width": "380.25px"
   },
   "toc_section_display": true,
   "toc_window_display": false
  },
  "varInspector": {
   "cols": {
    "lenName": 16,
    "lenType": 16,
    "lenVar": 40
   },
   "kernels_config": {
    "python": {
     "delete_cmd_postfix": "",
     "delete_cmd_prefix": "del ",
     "library": "var_list.py",
     "varRefreshCmd": "print(var_dic_list())"
    },
    "r": {
     "delete_cmd_postfix": ") ",
     "delete_cmd_prefix": "rm(",
     "library": "var_list.r",
     "varRefreshCmd": "cat(var_dic_list()) "
    }
   },
   "types_to_exclude": [
    "module",
    "function",
    "builtin_function_or_method",
    "instance",
    "_Feature"
   ],
   "window_display": false
  }
 },
 "nbformat": 4,
 "nbformat_minor": 4
}
